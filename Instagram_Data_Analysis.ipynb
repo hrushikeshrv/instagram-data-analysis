{
  "nbformat": 4,
  "nbformat_minor": 0,
  "metadata": {
    "kernelspec": {
      "display_name": "Python 3",
      "language": "python",
      "name": "python3"
    },
    "language_info": {
      "codemirror_mode": {
        "name": "ipython",
        "version": 3
      },
      "file_extension": ".py",
      "mimetype": "text/x-python",
      "name": "python",
      "nbconvert_exporter": "python",
      "pygments_lexer": "ipython3",
      "version": "3.7.6"
    },
    "colab": {
      "name": "Instagram Data Analysis.ipynb",
      "provenance": [],
      "include_colab_link": true
    }
  },
  "cells": [
    {
      "cell_type": "markdown",
      "metadata": {
        "id": "view-in-github",
        "colab_type": "text"
      },
      "source": [
        "<a href=\"https://colab.research.google.com/github/hrushikeshrv/instagram-data-analysis/blob/master/Instagram_Data_Analysis.ipynb\" target=\"_parent\"><img src=\"https://colab.research.google.com/assets/colab-badge.svg\" alt=\"Open In Colab\"/></a>"
      ]
    },
    {
      "cell_type": "markdown",
      "metadata": {
        "id": "rxCp8wmuOsx-",
        "colab_type": "text"
      },
      "source": [
        "# Hi! Ignore the cell below"
      ]
    },
    {
      "cell_type": "code",
      "metadata": {
        "id": "dVlSEQMjOsx_",
        "colab_type": "code",
        "colab": {}
      },
      "source": [
        "#Imports\n",
        "import pandas as pd\n",
        "import re\n",
        "import string\n",
        "import matplotlib.pyplot as plt\n",
        "import seaborn as sns\n",
        "\n",
        "#Import helper functions\n",
        "from instagram_utils import find_person, print_conversation, cleaned, frequency_analysis, frequency_plot\n",
        "#Get the data into a DataFrame\n",
        "dms = pd.read_json('messages.json')"
      ],
      "execution_count": null,
      "outputs": []
    },
    {
      "cell_type": "markdown",
      "metadata": {
        "id": "pW_M0b4HOsyF",
        "colab_type": "text"
      },
      "source": [
        "### Enter your instagram username"
      ]
    },
    {
      "cell_type": "code",
      "metadata": {
        "id": "kEM-Oj6AOsyG",
        "colab_type": "code",
        "colab": {}
      },
      "source": [
        "my_username = ''"
      ],
      "execution_count": null,
      "outputs": []
    },
    {
      "cell_type": "markdown",
      "metadata": {
        "id": "ZXDgCzFzOsyJ",
        "colab_type": "text"
      },
      "source": [
        "### Run this cell to see all the usernames you have a chat history with"
      ]
    },
    {
      "cell_type": "code",
      "metadata": {
        "id": "swgXdO_xOsyJ",
        "colab_type": "code",
        "colab": {}
      },
      "source": [
        "all_unames = []\n",
        "for i in dms['participants']:\n",
        "    i.pop(i.index(my_username))\n",
        "    for j in i:\n",
        "        if j not in all_unames:\n",
        "            all_unames.append(j)\n",
        "\n",
        "for x in all_unames:\n",
        "    print(x)"
      ],
      "execution_count": null,
      "outputs": []
    },
    {
      "cell_type": "markdown",
      "metadata": {
        "id": "s8hXZ5BBOsyM",
        "colab_type": "text"
      },
      "source": [
        "### Enter the instagram username of the person you want to analyze your history with\n",
        "(Between the quotes)"
      ]
    },
    {
      "cell_type": "code",
      "metadata": {
        "id": "9ChNRgZKOsyM",
        "colab_type": "code",
        "colab": {}
      },
      "source": [
        "person = ''"
      ],
      "execution_count": null,
      "outputs": []
    },
    {
      "cell_type": "markdown",
      "metadata": {
        "id": "4DoS2NsmOsyP",
        "colab_type": "text"
      },
      "source": [
        "## Run this cell to print the entire conversation with the person you chose\n",
        "### This can be long"
      ]
    },
    {
      "cell_type": "code",
      "metadata": {
        "id": "ParrO0JXOsyP",
        "colab_type": "code",
        "colab": {}
      },
      "source": [
        "posts_sent, posts_recieved, photos_sent, photos_recieved = print_conversation(person, my_username, dms, True)"
      ],
      "execution_count": null,
      "outputs": []
    },
    {
      "cell_type": "markdown",
      "metadata": {
        "id": "0BUjpgUSOsyS",
        "colab_type": "text"
      },
      "source": [
        "## Run this cell to plot a graph of the number of texts sent and recieved vs time"
      ]
    },
    {
      "cell_type": "code",
      "metadata": {
        "id": "sPIs38VHOsyS",
        "colab_type": "code",
        "colab": {}
      },
      "source": [
        "frequency_plot(person, dms, 3)\n",
        "frequency_plot(person, dms, 6)"
      ],
      "execution_count": null,
      "outputs": []
    },
    {
      "cell_type": "markdown",
      "metadata": {
        "id": "gDbNL3ltOsyV",
        "colab_type": "text"
      },
      "source": [
        "## Run this cell to print a list of the top 20 most common words in your chat with this person\n",
        "\n",
        "- Replace the 'top' with 'search' and you will be able to search for a particular word and see how many times it was used\n",
        "- Change the 20 to change the number of top words that are printed"
      ]
    },
    {
      "cell_type": "code",
      "metadata": {
        "id": "z6_aeja-OsyW",
        "colab_type": "code",
        "colab": {}
      },
      "source": [
        "frequency_analysis(person, dms, 20, 'top')"
      ],
      "execution_count": null,
      "outputs": []
    },
    {
      "cell_type": "markdown",
      "metadata": {
        "id": "_pwpKbkiOsyY",
        "colab_type": "text"
      },
      "source": [
        "## NOTE - The below functions are not 100% accurate yet.\n",
        "#### Run this cell to see all the posts you sent to the person you have selected"
      ]
    },
    {
      "cell_type": "code",
      "metadata": {
        "id": "_-D5HZiOOsyY",
        "colab_type": "code",
        "colab": {}
      },
      "source": [
        "for i in posts_sent:\n",
        "    print(i)"
      ],
      "execution_count": null,
      "outputs": []
    },
    {
      "cell_type": "markdown",
      "metadata": {
        "id": "lmuwOn23Osyb",
        "colab_type": "text"
      },
      "source": [
        "#### Run this cell to see all the posts you have recieved from the person you have selected"
      ]
    },
    {
      "cell_type": "code",
      "metadata": {
        "id": "xbGWlp9HOsyb",
        "colab_type": "code",
        "colab": {}
      },
      "source": [
        "for i in posts_recieved:\n",
        "    print(i)"
      ],
      "execution_count": null,
      "outputs": []
    },
    {
      "cell_type": "markdown",
      "metadata": {
        "id": "TsGfqqi_Osyd",
        "colab_type": "text"
      },
      "source": [
        "#### Run this cell to see all the non disappearing photos you have sent to the person you have selected"
      ]
    },
    {
      "cell_type": "code",
      "metadata": {
        "id": "vG990AZYOsye",
        "colab_type": "code",
        "colab": {}
      },
      "source": [
        "for i in photos_sent:\n",
        "    print(i)"
      ],
      "execution_count": null,
      "outputs": []
    },
    {
      "cell_type": "markdown",
      "metadata": {
        "id": "hxnG1bX-Osyg",
        "colab_type": "text"
      },
      "source": [
        "#### Run this cell to see all the non disappearing photos you have recieved from the person you have selected"
      ]
    },
    {
      "cell_type": "code",
      "metadata": {
        "id": "PGPNsT_hOsyh",
        "colab_type": "code",
        "colab": {}
      },
      "source": [
        "for i in photos_recieved:\n",
        "    print(i)"
      ],
      "execution_count": null,
      "outputs": []
    },
    {
      "cell_type": "markdown",
      "metadata": {
        "id": "w_ksyIXsOsyj",
        "colab_type": "text"
      },
      "source": [
        "# To look for another person, change the username in the 4th cell and run the cells below it again"
      ]
    }
  ]
}