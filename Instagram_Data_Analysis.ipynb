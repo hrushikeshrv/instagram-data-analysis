{
  "nbformat": 4,
  "nbformat_minor": 0,
  "metadata": {
    "kernelspec": {
      "display_name": "Python 3",
      "language": "python",
      "name": "python3"
    },
    "language_info": {
      "codemirror_mode": {
        "name": "ipython",
        "version": 3
      },
      "file_extension": ".py",
      "mimetype": "text/x-python",
      "name": "python",
      "nbconvert_exporter": "python",
      "pygments_lexer": "ipython3",
      "version": "3.7.6"
    },
    "colab": {
      "name": "Instagram Data Analysis.ipynb",
      "provenance": [],
      "include_colab_link": true
    }
  },
  "cells": [
    {
      "cell_type": "markdown",
      "metadata": {
        "id": "view-in-github",
        "colab_type": "text"
      },
      "source": [
        "<a href=\"https://colab.research.google.com/github/hrushikeshrv/instagram-data-analysis/blob/master/Instagram_Data_Analysis.ipynb\" target=\"_parent\"><img src=\"https://colab.research.google.com/assets/colab-badge.svg\" alt=\"Open In Colab\"/></a>"
      ]
    },
    {
      "cell_type": "markdown",
      "metadata": {
        "id": "1dCvyrbN6bLZ",
        "colab_type": "text"
      },
      "source": [
        "\n",
        "> # README\n",
        "\n",
        "\n",
        "\n",
        "Hi! You'll need to request Instagram to send you your data before you can analyze it using this notebook. To do that, go to the Instagram app > Settings > Security > Download Data. \n",
        "\n",
        "Instagram will ask you for your email, and it will send it there in a few hours (Getting your data may take some time). After you get it, come back here. Open this notebook, go to the file browser on the left hand side vertical pane on the page. Click on the \"Upload to session storage\" button (it will take a few seconds to appear once you open the file browser pane).\n",
        "\n",
        "Your data will be in parts. You will either get one single zip file or many zip files from Instagram. In the file labelled 'blah_blah_part_1', there will be a file called messages.json. Upload this file using the Upload to session storage button.\n",
        "\n",
        "## And you're done! The cells below will analyze your data. Click on the play button (inside the brackets [   ]) to run them and see the results."
      ]
    },
    {
      "cell_type": "markdown",
      "metadata": {
        "id": "rxCp8wmuOsx-",
        "colab_type": "text"
      },
      "source": [
        "# Hi! Run the cell below and forget about it.\n",
        "## After you run this cell, please run the very last cell on the page and forget about that too"
      ]
    },
    {
      "cell_type": "code",
      "metadata": {
        "id": "dVlSEQMjOsx_",
        "colab_type": "code",
        "colab": {}
      },
      "source": [
        "#Imports\n",
        "import pandas as pd\n",
        "import re\n",
        "import string\n",
        "import matplotlib.pyplot as plt\n",
        "import seaborn as sns\n",
        "\n",
        "#Import helper functions\n",
        "#from instagram_utils import find_person, print_conversation, cleaned, frequency_analysis, frequency_plot\n",
        "#Get the data into a DataFrame\n",
        "dms = pd.read_json('messages.json')"
      ],
      "execution_count": null,
      "outputs": []
    },
    {
      "cell_type": "markdown",
      "metadata": {
        "id": "pW_M0b4HOsyF",
        "colab_type": "text"
      },
      "source": [
        "### Enter your instagram username"
      ]
    },
    {
      "cell_type": "code",
      "metadata": {
        "id": "kEM-Oj6AOsyG",
        "colab_type": "code",
        "colab": {}
      },
      "source": [
        "my_username = ''"
      ],
      "execution_count": null,
      "outputs": []
    },
    {
      "cell_type": "markdown",
      "metadata": {
        "id": "ZXDgCzFzOsyJ",
        "colab_type": "text"
      },
      "source": [
        "### Run this cell to see all the usernames you have a chat history with"
      ]
    },
    {
      "cell_type": "code",
      "metadata": {
        "id": "swgXdO_xOsyJ",
        "colab_type": "code",
        "colab": {}
      },
      "source": [
        "all_unames = []\n",
        "for i in dms['participants']:\n",
        "    i.pop(i.index(my_username))\n",
        "    for j in i:\n",
        "        if j not in all_unames:\n",
        "            all_unames.append(j)\n",
        "\n",
        "for x in range(len(all_unames)):\n",
        "    print(f'{x}.\\t{all_unames[x]}')"
      ],
      "execution_count": null,
      "outputs": []
    },
    {
      "cell_type": "markdown",
      "metadata": {
        "id": "s8hXZ5BBOsyM",
        "colab_type": "text"
      },
      "source": [
        "### Enter the instagram username of the person you want to analyze your history with\n",
        "(Between the quotes)"
      ]
    },
    {
      "cell_type": "code",
      "metadata": {
        "id": "9ChNRgZKOsyM",
        "colab_type": "code",
        "colab": {}
      },
      "source": [
        "person = ''"
      ],
      "execution_count": null,
      "outputs": []
    },
    {
      "cell_type": "markdown",
      "metadata": {
        "id": "4DoS2NsmOsyP",
        "colab_type": "text"
      },
      "source": [
        "## Run this cell to print the entire conversation with the person you chose\n",
        "### This can be long\n",
        "### You may need to give some inputs along the way"
      ]
    },
    {
      "cell_type": "code",
      "metadata": {
        "id": "ParrO0JXOsyP",
        "colab_type": "code",
        "colab": {}
      },
      "source": [
        "posts_sent, posts_recieved, photos_sent, photos_recieved = print_conversation(person, my_username, dms, True)"
      ],
      "execution_count": null,
      "outputs": []
    },
    {
      "cell_type": "markdown",
      "metadata": {
        "id": "0BUjpgUSOsyS",
        "colab_type": "text"
      },
      "source": [
        "## Run this cell to plot a graph of the number of texts sent and recieved vs time"
      ]
    },
    {
      "cell_type": "code",
      "metadata": {
        "id": "sPIs38VHOsyS",
        "colab_type": "code",
        "colab": {}
      },
      "source": [
        "frequency_plot(person, dms, 3)\n",
        "frequency_plot(person, dms, 6)"
      ],
      "execution_count": null,
      "outputs": []
    },
    {
      "cell_type": "markdown",
      "metadata": {
        "id": "gDbNL3ltOsyV",
        "colab_type": "text"
      },
      "source": [
        "## Run this cell to print a list of the top 20 most common words in your chat with this person\n",
        "\n",
        "- Replace the 'top' with 'search' and you will be able to search for a particular word and see how many times it was used\n",
        "- Change the 20 to change the number of top words that are printed"
      ]
    },
    {
      "cell_type": "code",
      "metadata": {
        "id": "z6_aeja-OsyW",
        "colab_type": "code",
        "colab": {}
      },
      "source": [
        "frequency_analysis(person, dms, 20, 'top')"
      ],
      "execution_count": null,
      "outputs": []
    },
    {
      "cell_type": "markdown",
      "metadata": {
        "id": "_pwpKbkiOsyY",
        "colab_type": "text"
      },
      "source": [
        "## NOTE - The below functions are not 100% accurate yet.\n",
        "#### Run this cell to see all the posts you have sent to the person you have selected"
      ]
    },
    {
      "cell_type": "code",
      "metadata": {
        "id": "_-D5HZiOOsyY",
        "colab_type": "code",
        "colab": {}
      },
      "source": [
        "for i in posts_sent:\n",
        "    print(i)"
      ],
      "execution_count": null,
      "outputs": []
    },
    {
      "cell_type": "markdown",
      "metadata": {
        "id": "lmuwOn23Osyb",
        "colab_type": "text"
      },
      "source": [
        "#### Run this cell to see all the posts you have recieved from the person you have selected"
      ]
    },
    {
      "cell_type": "code",
      "metadata": {
        "id": "xbGWlp9HOsyb",
        "colab_type": "code",
        "colab": {}
      },
      "source": [
        "for i in posts_recieved:\n",
        "    print(i)"
      ],
      "execution_count": null,
      "outputs": []
    },
    {
      "cell_type": "markdown",
      "metadata": {
        "id": "TsGfqqi_Osyd",
        "colab_type": "text"
      },
      "source": [
        "#### Run this cell to see all the non disappearing photos you have sent to the person you have selected"
      ]
    },
    {
      "cell_type": "code",
      "metadata": {
        "id": "vG990AZYOsye",
        "colab_type": "code",
        "colab": {}
      },
      "source": [
        "for i in photos_sent:\n",
        "    print(i)"
      ],
      "execution_count": null,
      "outputs": []
    },
    {
      "cell_type": "markdown",
      "metadata": {
        "id": "hxnG1bX-Osyg",
        "colab_type": "text"
      },
      "source": [
        "#### Run this cell to see all the non disappearing photos you have recieved from the person you have selected"
      ]
    },
    {
      "cell_type": "code",
      "metadata": {
        "id": "PGPNsT_hOsyh",
        "colab_type": "code",
        "colab": {}
      },
      "source": [
        "for i in photos_recieved:\n",
        "    print(i)"
      ],
      "execution_count": null,
      "outputs": []
    },
    {
      "cell_type": "markdown",
      "metadata": {
        "id": "w_ksyIXsOsyj",
        "colab_type": "text"
      },
      "source": [
        "# To look for another person, change the username in the 4th cell and run the cells below it again"
      ]
    },
    {
      "cell_type": "markdown",
      "metadata": {
        "id": "W6J2lsoy5TUx",
        "colab_type": "text"
      },
      "source": [
        "# Run this cell and forget about it."
      ]
    },
    {
      "cell_type": "code",
      "metadata": {
        "id": "5k2CtLOx5Q2B",
        "colab_type": "code",
        "colab": {}
      },
      "source": [
        "#Define helper functions\n",
        "\n",
        "def print_conversation(person, my_username, dms, return_photos = False):\n",
        "    \"\"\"\n",
        "    Takes in a username and prints their conversation as a chat.\n",
        "    Set return_photos to True if you want the function to return a list containing urls to all the posts and photos\n",
        "    shared in the chat by all parties involved.\n",
        "    If return_photos:\n",
        "        return (posts_sent, posts_recieved, photos_sent, photos_recieved)\n",
        "    \"\"\"\n",
        "    print_chat = 'personal'\n",
        "    indices, groups = find_person(person, dms, False)\n",
        "    chat_number = indices[0]\n",
        "    print(f'Found {len(indices)} chats with {person}.')\n",
        "    if groups:\n",
        "        print(f'Found {len(groups)} groupchats with {person}.')\n",
        "        print_chat = input(f'Enter the chats you want to print - enter \"Personal\" to print your personal chats with {person} or enter \"Group\" to print your group chats with {person} - ').lower()\n",
        "\n",
        "    while print_chat != 'personal' and print_chat != 'group':\n",
        "        print_chat = input('Got an invalid input. Please either enter \"Personal\" or \"Group\"')\n",
        "    \n",
        "    if print_chat == 'personal' and len(indices) > 1:\n",
        "        print(f'\\n\\nYour personal chats with {person} are at indices {indices}.')\n",
        "        chat_number = int(input(f'Enter the index of the chat with {person} you want to print. (The higher the index, the older the chat) - '))\n",
        "    elif print_chat == 'group' and len(groups) > 1:\n",
        "        print(f'\\n\\nYour group chats with {person} are at indices {groups}')\n",
        "        chat_number = int(input(f'Enter the index of the group chat with {person} you want to print. (The higher the index, the older the chat) - '))\n",
        "    elif print_chat == 'group' and len(groups) == 1:\n",
        "        chat_number = groups[0]\n",
        "    \n",
        "    conversation = reversed(dms['conversation'][chat_number])\n",
        "    \n",
        "    prev_day = 0\n",
        "    sender = 'noone'\n",
        "    \n",
        "    #Initialize lists to keep track of photos/posts sent and recieved\n",
        "    posts_sent = []\n",
        "    photos_sent = []\n",
        "    posts_recieved = []\n",
        "    photos_recieved = []\n",
        "    \n",
        "    for i in conversation:\n",
        "        #Keep track of today's date\n",
        "        today = i['created_at'].split('T')[0].split('-')[2]\n",
        "        \n",
        "        #Check if the day has changed\n",
        "        if prev_day != today:\n",
        "            prev_day = today\n",
        "            print('{:>50}'.format(i['created_at'].split('T')[0]))\n",
        "            print('-'*100+'\\n')\n",
        "            \n",
        "        if i['sender'] != sender:\n",
        "            sender = i['sender']\n",
        "            print('\\n')\n",
        "            if i['sender'] != my_username:\n",
        "                print(f'[{i[\"sender\"]}]')\n",
        "        \n",
        "        try:        \n",
        "            #Check if anyone sent a story\n",
        "            if 'story_share' in i.keys():\n",
        "                if i['sender'] == my_username:\n",
        "                    print('{:>100}\\n'.format('[' + i[\"story_share\"] + ']'))\n",
        "                else:\n",
        "                    print(f'[{i[\"sender\"]} {i[\"story_share\"]}]\\n')\n",
        "\n",
        "            #Check if anyone sent a photo or a post\n",
        "            if 'media_share_url' in i.keys():\n",
        "                #Check who sent the photo/post\n",
        "                if i['sender'] == my_username:\n",
        "                    print('-'*100)\n",
        "                    print('{:>100} \\n{:>100}\\n{:>100}'.format('hrushikeshrv shared a post -',i['media_share_url'],i['media_share_caption']))\n",
        "                    print('-'*100+'\\n')\n",
        "                    posts_sent.append(i['media_share_url'])\n",
        "                else:\n",
        "                    print('-'*100)\n",
        "                    print('{} shared a post -\\n{}\\n{}'.format(i['sender'], i['media_share_url'], i['media_share_caption']))\n",
        "                    print('-'*100+'\\n')\n",
        "                    posts_recieved.append(i['media_share_url'])\n",
        "            \n",
        "            #Check if anyone started a video call\n",
        "            if 'video_call_action' in i.keys():\n",
        "                print('{:>50}'.format(i['video_call_action']))\n",
        "            \n",
        "            #Check if anyone sent a gif\n",
        "            if 'animated_media_images' in i.keys():\n",
        "                print('-'*100)\n",
        "                if i['sender'] == my_username:\n",
        "                    print('{:>100}\\n{}'.format(\"hrushikeshrv sent a gif -\", i[\"animated_media_images\"][\"downsized_large\"][\"url\"]))\n",
        "                else:\n",
        "                    print(f'{i[\"sender\"]} sent a gif -\\n{i[\"animated_media_images\"][\"downsized_large\"][\"url\"]}')\n",
        "                print('-'*100 + '\\n')\n",
        "                \n",
        "            #Check if anyone sent a picture\n",
        "            if 'media' in i.keys():\n",
        "                if i['sender'] == my_username:\n",
        "                    print('-'*100)\n",
        "                    print('{:>100} \\n{:>100}'.format('hrushikeshrv sent a photo -',i['media']))\n",
        "                    print('-'*100+'\\n')\n",
        "                    photos_sent.append(i['media'])\n",
        "                else:\n",
        "                    print('-'*100)\n",
        "                    print('{} sent a photo -\\n{}'.format(i['sender'], i['media']))\n",
        "                    print('-'*100+'\\n')\n",
        "                    photos_recieved.append(i['media'])\n",
        "            if 'media_url' in i.keys():\n",
        "                if i['sender'] == my_username:\n",
        "                    print('-'*100)\n",
        "                    print('{:>100} \\n{:>100}'.format('hrushikeshrv sent a photo -',i['media_url']))\n",
        "                    print('-'*100+'\\n')\n",
        "                    photos_sent.append(i['media_url'])\n",
        "                else:\n",
        "                    print('-'*100)\n",
        "                    print('{} sent a photo -\\n{}'.format(i['sender'], i['media_url']))\n",
        "                    print('-'*100+'\\n')\n",
        "                    photos_recieved.append(i['media_url'])\n",
        "            \n",
        "            \n",
        "            #Check if anyone sent a heart\n",
        "            if 'heart' in i.keys():\n",
        "                if i['sender'] == my_username:\n",
        "                    print('{:>100}'.format(i['heart']))\n",
        "                else:\n",
        "                    print('{}'.format(i['heart']))\n",
        "            \n",
        "            #Print the text contents of the message\n",
        "            if 'text' in i.keys():\n",
        "                if i['sender'] == my_username:\n",
        "                    print('{:>100}'.format(i[\"text\"]))\n",
        "                else:\n",
        "                    print(f'{i[\"text\"]}')\n",
        "            \n",
        "            #Check if anyone has liked the meassage\n",
        "            if 'likes' in i.keys():\n",
        "                for j in i['likes']:\n",
        "                    if i['sender'] != my_username:\n",
        "                        print('[liked by {}]'.format(j['username']))\n",
        "                    else:\n",
        "                        print('{:>100}]'.format('[liked by ' + j['username']))\n",
        "            \n",
        "            #Check if anyone sent a voice message\n",
        "            if 'voice_media' in i.keys():\n",
        "                if i['sender'] == my_username:\n",
        "                    print('[{:>100}]\\n'.format('hrushikeshrv sent a voice message'))\n",
        "                else:\n",
        "                    print(f'[{i[\"sender\"]} sent a voice message]\\n')\n",
        "                    \n",
        "        #Catch exceptions\n",
        "        except KeyError as e:\n",
        "            if i['sender'] == my_username:\n",
        "                print('{:>100} sent some media]\\n'.format('['+i['sender']))\n",
        "                #-----------------------------DEBUG------------------------------#\n",
        "                print('{:>100}'.format(i.keys()))\n",
        "                print('ERROR - ' + e)\n",
        "                #-----------------------------DEBUG------------------------------#\n",
        "            else:\n",
        "                print(f'\\n[{i[\"sender\"]} sent some media]\\n')\n",
        "                #-----------------------------DEBUG------------------------------#\n",
        "                print(f'{i.keys()}')\n",
        "                print('ERROR - ' + e)\n",
        "                #-----------------------------DEBUG------------------------------#\n",
        "        \n",
        "    if return_photos:\n",
        "        print('\\n\\n\\nReturning lists containing urls to all the media shared in the chat...')\n",
        "        return posts_sent, posts_recieved, photos_sent, photos_recieved\n",
        "\n",
        "#----------------------------------------------------------------------------------------------------------------------------#\n",
        "\n",
        "def frequency_plot(person, dms, weighted_average_days = 3, accuracy = True):\n",
        "    \"\"\"\n",
        "    Takes in a username, finds all the conversations with that person, and plots a graph of the number of messages to and \n",
        "    from that person every day over their entire chat history.\n",
        "    \"\"\"\n",
        "    indices, temp = find_person(person, dms, False)\n",
        "    total_days_talking = []\n",
        "    \n",
        "    #Keep count of number of texts each day\n",
        "    number_of_texts = []\n",
        "    \n",
        "    #Iterating through all the chat lists in the dms data frame (i)\n",
        "    for i in indices:\n",
        "        conversation = reversed(dms['conversation'][i])\n",
        "        #initialize the date to 0\n",
        "        prev_day = 0\n",
        "        #Iterating through all the messages in a chats in a conversation (message)\n",
        "        todays_texts = 0\n",
        "        days_talking = 0\n",
        "        for message in conversation:\n",
        "            \n",
        "            today = message['created_at'].split('T')[0].split('-')[2]\n",
        "            \n",
        "            if prev_day == today:\n",
        "                todays_texts += 1\n",
        "                \n",
        "            else:\n",
        "                prev_day = today\n",
        "                number_of_texts.append(todays_texts)\n",
        "                todays_texts = 0\n",
        "                days_talking += 1\n",
        "                \n",
        "        total_days_talking.append(days_talking)\n",
        "        \n",
        "    kde = [0]\n",
        "    beta = 1 - 1/weighted_average_days\n",
        "    for x in range(1, len(number_of_texts)):\n",
        "        kde.append((beta*kde[-1] + (1-beta)*number_of_texts[x])/(1-beta**x))\n",
        "    \n",
        "    sns.set_context('poster', font_scale = 0.5)\n",
        "    text_plot = plt.figure()\n",
        "    ax = text_plot.add_axes([0,0,1.5,1.2])\n",
        "    ax.set_title('Number of texts vs. days')\n",
        "    ax.set_xlabel('Days')\n",
        "    ax.set_ylabel('Texts')\n",
        "    ax.set_ylim(ymin = -0.017*max(number_of_texts), ymax = 1.15*max(number_of_texts))\n",
        "    ax.grid(b = True, which = 'major', color = '#444444', linewidth = 0.6)\n",
        "    if accuracy:\n",
        "        ax.plot(number_of_texts, color = 'orange', linewidth = 2, label = 'Texts/Day')\n",
        "        ax.plot(kde, color = 'green', linewidth = 2, label = '{} day average'.format(weighted_average_days))\n",
        "    else:\n",
        "        ax.plot(kde, color = 'green', linewidth = 2, label = '{} day average'.format(weighted_average_days))\n",
        "    ax.legend(loc = 'best')\n",
        "    \n",
        "    _ = 0\n",
        "    for x in total_days_talking:\n",
        "        _ += x\n",
        "    print(f'Talked for a total of {_} days.')\n",
        "    _ = 0\n",
        "    for x in number_of_texts:\n",
        "        _ += x\n",
        "    print(f'In this time, a total of {_} texts were sent')\n",
        "    print(f'The maximum number of texts in a single day was {max(number_of_texts)}')\n",
        "\n",
        "#----------------------------------------------------------------------------------------------------------------------------#\n",
        "\n",
        "def cleaned(word):\n",
        "    \"\"\"\n",
        "    Takes in a word and returns the cleaned up version of the word.\n",
        "    \n",
        "    Can return multiple words or word/emoji combinations. Returns a list. Meant to be used inside the frequency_analysis()\n",
        "    function.\n",
        "    \n",
        "    Removes any punctuation joined to the word, any emojis next to the word, and reduces any 3 letters repeated \n",
        "    consecutively to 1.\n",
        "    \"\"\"\n",
        "    word = word.strip(string.punctuation)\n",
        "    letter_regex = re.compile('\\w')\n",
        "    letters = letter_regex.findall(word)\n",
        "    \n",
        "    out_word = []\n",
        "    prev_count = 0\n",
        "    prev_letter = ''\n",
        "    for l in letters:\n",
        "        if prev_letter != l:\n",
        "            out_word.append(l)\n",
        "            prev_letter = l\n",
        "            prev_count = 0\n",
        "        else:\n",
        "            prev_count += 1\n",
        "            if prev_count < 2:\n",
        "                out_word.append(l)\n",
        "    \n",
        "    out_emoji = []\n",
        "    \n",
        "    not_letters = re.compile('\\W')\n",
        "    emoji = not_letters.findall(word)\n",
        "    prev_count = 0\n",
        "    prev_emoji = ''\n",
        "    for l in emoji:\n",
        "        if prev_emoji != l:\n",
        "            out_emoji.append(l)\n",
        "            prev_emoji = l\n",
        "    \n",
        "    answer = []\n",
        "    answer.append(''.join(out_word))\n",
        "    for i in out_emoji:\n",
        "        answer.append(i)\n",
        "    return answer\n",
        "\n",
        "#----------------------------------------------------------------------------------------------------------------------------#\n",
        "\n",
        "def frequency_analysis(person, dms, n_top_words = 20, mode = 'top'):\n",
        "    \"\"\"\n",
        "    Takes in the person and makes a frequency table of all the words they used\n",
        "    \n",
        "    n_top_words is the number of most frequent words to print out.\n",
        "    mode is a string which takes either 'top' or 'search'\n",
        "    search mode is to search for the frequency of a particular word the user enters. The function will return the top n \n",
        "    words in either mode\n",
        "    \"\"\"\n",
        "    chat_dictionary = {}\n",
        "    indices, _ = find_person(person, dms, False)\n",
        "    \n",
        "    #To handle a weird special case. No, empty is not '' (the empty string).\n",
        "    empty = '️'\n",
        "    \n",
        "    for i in indices:\n",
        "        conversation = reversed(dms['conversation'][i])\n",
        "        for message in conversation:\n",
        "            if 'text' in message.keys():\n",
        "                try:\n",
        "                    words_in_text_preprocessed = message['text'].lower().split()\n",
        "                    words_in_text = []\n",
        "                    for w in words_in_text_preprocessed:\n",
        "                        w_clean = cleaned(w)\n",
        "                        for x in w_clean:\n",
        "                            words_in_text.append(x)     \n",
        "                except:\n",
        "                    pass\n",
        "                for word in words_in_text:\n",
        "                    if word in chat_dictionary.keys() and (word != '' and word != empty and word != \"'\"):\n",
        "                        #increment the word count\n",
        "                        chat_dictionary[word] += 1\n",
        "                    elif word not in chat_dictionary.keys() and (word != '' and word != empty and word != \"'\"):\n",
        "                        #create the key for the word and set it to 1\n",
        "                        chat_dictionary[word] = 1\n",
        "\n",
        "    frequencies = list(chat_dictionary.values())\n",
        "    words = list(chat_dictionary.keys())\n",
        "    top_word_list = []\n",
        "    top_word_count = []\n",
        "    \n",
        "    if mode == 'search':\n",
        "        word_to_search = input(\"Enter the word you want to search for -- \").lower().strip(string.punctuation)\n",
        "        if word_to_search in words:\n",
        "            freq = frequencies[words.index(word_to_search)]\n",
        "            rank = list(sorted(frequencies, reverse = True)).index(freq)+1\n",
        "            print(f'\\nYou have used the word {word_to_search} {freq} times in your chat with {person}.\\nIt ranks number {rank}.\\n')\n",
        "        else:\n",
        "            print(f\"You haven't used the word {word_to_search} in a chat with {person}\\n\")\n",
        "    \n",
        "    for i in range(n_top_words):\n",
        "        top_word_index = frequencies.index(max(frequencies))\n",
        "        top_word = words[top_word_index]\n",
        "        top_word_list.append(words.pop(top_word_index).title())\n",
        "        top_word_count.append(frequencies.pop(top_word_index))\n",
        "    \n",
        "    print(f'You have used a total of {len(frequencies)} unique words with [{person}]')\n",
        "    print(f'The top {n_top_words} most used words in your chat with [{person}] were - \\n')\n",
        "    for i in range(len(top_word_list)):\n",
        "        print(f'{i+1}.\\t{top_word_list[i]}\\t --- used {top_word_count[i]} times.')\n",
        "\n",
        "    print('\\n')\n",
        "\n",
        "#----------------------------------------------------------------------------------------------------------------------------#\n",
        "\n",
        "def find_person(person, dms, print_indices = True):\n",
        "    \"\"\"\n",
        "    Takes in the whole series and returns the indices of conversations with the person.\n",
        "    Primarily meant to be used as a helper function in print_convo(), frequency_plot(), and frequency_analysis()\n",
        "    \"\"\"\n",
        "    group_index = []\n",
        "    non_group_indices = []\n",
        "    participants = list(reversed(dms['participants']))\n",
        "    for i in range(len(participants)):\n",
        "        if person in participants[i] and len(participants[i]) == 2:\n",
        "            non_group_indices.append(len(participants) - i - 1)\n",
        "        elif person in participants[i]:\n",
        "            group_index.append(len(participants) - i - 1)\n",
        "    \n",
        "    if print_indices:\n",
        "        print(f'Your personal chats with {person} are at indices \\n{non_group_indices}.\\n[Oldest first]')\n",
        "        if group_index:\n",
        "            print(f'Your group chats with {person} are at -\\n{group_index}')\n",
        "            \n",
        "        \n",
        "    return non_group_indices, group_index"
      ],
      "execution_count": null,
      "outputs": []
    }
  ]
}